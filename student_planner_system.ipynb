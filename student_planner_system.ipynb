{
 "cells": [
  {
   "cell_type": "code",
   "execution_count": 1,
   "id": "4474c747-6fd8-421e-a9b3-940437320c0b",
   "metadata": {},
   "outputs": [
    {
     "name": "stdout",
     "output_type": "stream",
     "text": [
      "\n",
      "--- Student Planner ---\n",
      "1. Add a task\n",
      "2. View tasks\n",
      "3. Update task status\n",
      "4. Edit a task\n",
      "5. Delete a task\n",
      "6. Sort tasks\n",
      "7. Exit\n"
     ]
    },
    {
     "name": "stdin",
     "output_type": "stream",
     "text": [
      "Choose an option:  1\n",
      "Enter the task title:  AI Assignment\n",
      "Enter the task description:  AI assignment completion (3,4)\n",
      "Enter the task date (dd mm yy):  12 08 23\n",
      "Enter task category (e.g., Homework, Personal, Exam):  College\n",
      "Enter priority (Low, Medium, High):  Medium\n"
     ]
    },
    {
     "name": "stdout",
     "output_type": "stream",
     "text": [
      "\n",
      "Task 'AI Assignment' added successfully!\n",
      "\n",
      "\n",
      "--- Student Planner ---\n",
      "1. Add a task\n",
      "2. View tasks\n",
      "3. Update task status\n",
      "4. Edit a task\n",
      "5. Delete a task\n",
      "6. Sort tasks\n",
      "7. Exit\n"
     ]
    },
    {
     "name": "stdin",
     "output_type": "stream",
     "text": [
      "Choose an option:  2\n"
     ]
    },
    {
     "name": "stdout",
     "output_type": "stream",
     "text": [
      "\n",
      "--- Task List ---\n",
      "1. AI Assignment (Date: 12 08 23, Status: Pending)\n"
     ]
    },
    {
     "name": "stdin",
     "output_type": "stream",
     "text": [
      "\n",
      "Enter the task number to view details:  1\n"
     ]
    },
    {
     "name": "stdout",
     "output_type": "stream",
     "text": [
      "\n",
      "--- Task Details ---\n",
      "Title: AI Assignment\n",
      "Description: AI assignment completion (3,4)\n",
      "Date: 12 08 23\n",
      "Category: College\n",
      "Priority: Medium\n",
      "Status: Pending\n",
      "\n",
      "--- Student Planner ---\n",
      "1. Add a task\n",
      "2. View tasks\n",
      "3. Update task status\n",
      "4. Edit a task\n",
      "5. Delete a task\n",
      "6. Sort tasks\n",
      "7. Exit\n"
     ]
    },
    {
     "name": "stdin",
     "output_type": "stream",
     "text": [
      "Choose an option:  3\n"
     ]
    },
    {
     "name": "stdout",
     "output_type": "stream",
     "text": [
      "\n",
      "--- Task List ---\n",
      "1. AI Assignment (Date: 12 08 23, Status: Pending)\n"
     ]
    },
    {
     "name": "stdin",
     "output_type": "stream",
     "text": [
      "\n",
      "Enter the task number to view details:  1\n"
     ]
    },
    {
     "name": "stdout",
     "output_type": "stream",
     "text": [
      "\n",
      "--- Task Details ---\n",
      "Title: AI Assignment\n",
      "Description: AI assignment completion (3,4)\n",
      "Date: 12 08 23\n",
      "Category: College\n",
      "Priority: Medium\n",
      "Status: Pending\n"
     ]
    },
    {
     "name": "stdin",
     "output_type": "stream",
     "text": [
      "Enter the task number to update:  1\n"
     ]
    },
    {
     "name": "stdout",
     "output_type": "stream",
     "text": [
      "\n",
      "Task 'AI Assignment' status updated!\n",
      "\n",
      "\n",
      "--- Student Planner ---\n",
      "1. Add a task\n",
      "2. View tasks\n",
      "3. Update task status\n",
      "4. Edit a task\n",
      "5. Delete a task\n",
      "6. Sort tasks\n",
      "7. Exit\n"
     ]
    },
    {
     "name": "stdin",
     "output_type": "stream",
     "text": [
      "Choose an option:  5\n"
     ]
    },
    {
     "name": "stdout",
     "output_type": "stream",
     "text": [
      "\n",
      "--- Task List ---\n",
      "1. AI Assignment (Date: 12 08 23, Status: Completed)\n"
     ]
    },
    {
     "name": "stdin",
     "output_type": "stream",
     "text": [
      "\n",
      "Enter the task number to view details:  1\n"
     ]
    },
    {
     "name": "stdout",
     "output_type": "stream",
     "text": [
      "\n",
      "--- Task Details ---\n",
      "Title: AI Assignment\n",
      "Description: AI assignment completion (3,4)\n",
      "Date: 12 08 23\n",
      "Category: College\n",
      "Priority: Medium\n",
      "Status: Completed\n"
     ]
    },
    {
     "name": "stdin",
     "output_type": "stream",
     "text": [
      "Enter the task number to delete:  1\n"
     ]
    },
    {
     "name": "stdout",
     "output_type": "stream",
     "text": [
      "\n",
      "Task 'AI Assignment' deleted!\n",
      "\n",
      "\n",
      "--- Student Planner ---\n",
      "1. Add a task\n",
      "2. View tasks\n",
      "3. Update task status\n",
      "4. Edit a task\n",
      "5. Delete a task\n",
      "6. Sort tasks\n",
      "7. Exit\n"
     ]
    },
    {
     "name": "stdin",
     "output_type": "stream",
     "text": [
      "Choose an option:  7\n"
     ]
    }
   ],
   "source": [
    "import json\n",
    "from datetime import datetime\n",
    "\n",
    "# Helper functions for loading and saving tasks\n",
    "def load_tasks():\n",
    "    try:\n",
    "        with open('tasks.json', 'r') as file:\n",
    "            return json.load(file)\n",
    "    except FileNotFoundError:\n",
    "        return []\n",
    "\n",
    "def save_tasks(tasks):\n",
    "    with open('tasks.json', 'w') as file:\n",
    "        json.dump(tasks, file, indent=4)\n",
    "\n",
    "# Add a new task with enhanced options\n",
    "def add_task():\n",
    "    title = input(\"Enter the task title: \")\n",
    "    description = input(\"Enter the task description: \")\n",
    "    date = input(\"Enter the task date (dd mm yy): \")\n",
    "    status = \"Pending\"\n",
    "    category = input(\"Enter task category (e.g., Homework, Personal, Exam): \")\n",
    "    priority = input(\"Enter priority (Low, Medium, High): \")\n",
    "\n",
    "    task = {\n",
    "        'title': title,\n",
    "        'description': description,\n",
    "        'date': date,\n",
    "        'status': status,\n",
    "        'category': category,\n",
    "        'priority': priority\n",
    "    }\n",
    "    \n",
    "    tasks.append(task)\n",
    "    save_tasks(tasks)\n",
    "    print(f\"\\nTask '{title}' added successfully!\\n\")\n",
    "\n",
    "# View all task titles and select one to see its details\n",
    "def view_tasks():\n",
    "    if not tasks:\n",
    "        print(\"\\nNo tasks available.\\n\")\n",
    "        return\n",
    "    \n",
    "    print(\"\\n--- Task List ---\")\n",
    "    for i, task in enumerate(tasks):\n",
    "        print(f\"{i+1}. {task['title']} (Date: {task['date']}, Status: {task['status']})\")\n",
    "    \n",
    "    task_number = int(input(\"\\nEnter the task number to view details: \")) - 1\n",
    "    if 0 <= task_number < len(tasks):\n",
    "        task = tasks[task_number]\n",
    "        print(\"\\n--- Task Details ---\")\n",
    "        print(f\"Title: {task['title']}\")\n",
    "        print(f\"Description: {task['description']}\")\n",
    "        print(f\"Date: {task['date']}\")\n",
    "        print(f\"Category: {task.get('category', 'No Category')}\")\n",
    "        print(f\"Priority: {task.get('priority', 'No Priority')}\")\n",
    "        print(f\"Status: {task['status']}\")\n",
    "    else:\n",
    "        print(\"Invalid task number.\")\n",
    "\n",
    "# Update task status to completed or pending\n",
    "def update_task_status():\n",
    "    view_tasks()\n",
    "    task_number = int(input(\"Enter the task number to update: \")) - 1\n",
    "    if 0 <= task_number < len(tasks):\n",
    "        tasks[task_number]['status'] = \"Completed\" if tasks[task_number]['status'] == \"Pending\" else \"Pending\"\n",
    "        save_tasks(tasks)\n",
    "        print(f\"\\nTask '{tasks[task_number]['title']}' status updated!\\n\")\n",
    "    else:\n",
    "        print(\"Invalid task number\")\n",
    "\n",
    "# Edit task details\n",
    "def edit_task():\n",
    "    view_tasks()\n",
    "    task_number = int(input(\"Enter the task number to edit: \")) - 1\n",
    "    if 0 <= task_number < len(tasks):\n",
    "        task = tasks[task_number]\n",
    "        print(f\"Editing Task: {task['title']}\")\n",
    "        task['title'] = input(\"New title: \") or task['title']\n",
    "        task['description'] = input(\"New description: \") or task['description']\n",
    "        task['date'] = input(\"New date (dd mm yy): \") or task['date']\n",
    "        task['category'] = input(\"New category: \") or task.get('category', 'No Category')\n",
    "        task['priority'] = input(\"New priority: \") or task.get('priority', 'No Priority')\n",
    "        save_tasks(tasks)\n",
    "        print(\"\\nTask updated successfully!\\n\")\n",
    "    else:\n",
    "        print(\"Invalid task number\")\n",
    "\n",
    "# Delete a task\n",
    "def delete_task():\n",
    "    view_tasks()\n",
    "    task_number = int(input(\"Enter the task number to delete: \")) - 1\n",
    "    if 0 <= task_number < len(tasks):\n",
    "        deleted_task = tasks.pop(task_number)\n",
    "        save_tasks(tasks)\n",
    "        print(f\"\\nTask '{deleted_task['title']}' deleted!\\n\")\n",
    "    else:\n",
    "        print(\"Invalid task number\")\n",
    "\n",
    "# Sort tasks by priority or date\n",
    "def sort_tasks():\n",
    "    print(\"\\nSort tasks by:\")\n",
    "    print(\"1. Priority (High to Low)\")\n",
    "    print(\"2. Date (Oldest to Newest)\")\n",
    "    choice = input(\"Choose an option: \")\n",
    "\n",
    "    if choice == '1':\n",
    "        tasks.sort(key=lambda x: {'Low': 1, 'Medium': 2, 'High': 3}.get(x['priority'], 0), reverse=True)\n",
    "    elif choice == '2':\n",
    "        tasks.sort(key=lambda x: datetime.strptime(x['date'], '%d %m %y'))\n",
    "    \n",
    "    save_tasks(tasks)\n",
    "    print(\"\\nTasks sorted successfully!\\n\")\n",
    "\n",
    "# Main program loop\n",
    "tasks = load_tasks()\n",
    "\n",
    "while True:\n",
    "    print(\"\\n--- Student Planner ---\")\n",
    "    print(\"1. Add a task\")\n",
    "    print(\"2. View tasks\")\n",
    "    print(\"3. Update task status\")\n",
    "    print(\"4. Edit a task\")\n",
    "    print(\"5. Delete a task\")\n",
    "    print(\"6. Sort tasks\")\n",
    "    print(\"7. Exit\")\n",
    "    choice = input(\"Choose an option: \")\n",
    "\n",
    "    if choice == '1':\n",
    "        add_task()\n",
    "    elif choice == '2':\n",
    "        view_tasks()\n",
    "    elif choice == '3':\n",
    "        update_task_status()\n",
    "    elif choice == '4':\n",
    "        edit_task()\n",
    "    elif choice == '5':\n",
    "        delete_task()\n",
    "    elif choice == '6':\n",
    "        sort_tasks()\n",
    "    elif choice == '7':\n",
    "        break\n",
    "    else:\n",
    "        print(\"Invalid option, please try again.\")\n"
   ]
  },
  {
   "cell_type": "code",
   "execution_count": null,
   "id": "023d19fa-1ea8-402a-9218-8c4f003b276f",
   "metadata": {},
   "outputs": [],
   "source": []
  }
 ],
 "metadata": {
  "kernelspec": {
   "display_name": "Python 3 (ipykernel)",
   "language": "python",
   "name": "python3"
  },
  "language_info": {
   "codemirror_mode": {
    "name": "ipython",
    "version": 3
   },
   "file_extension": ".py",
   "mimetype": "text/x-python",
   "name": "python",
   "nbconvert_exporter": "python",
   "pygments_lexer": "ipython3",
   "version": "3.8.19"
  }
 },
 "nbformat": 4,
 "nbformat_minor": 5
}
